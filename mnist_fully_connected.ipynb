{
 "cells": [
  {
   "cell_type": "code",
   "execution_count": 1,
   "metadata": {},
   "outputs": [],
   "source": [
    "%matplotlib inline\n",
    "%reload_ext autoreload\n",
    "%autoreload 2"
   ]
  },
  {
   "cell_type": "code",
   "execution_count": 2,
   "metadata": {},
   "outputs": [],
   "source": [
    "from utils import *\n",
    "from fastai.conv_learner import *\n",
    "from torch.nn.init import xavier_normal"
   ]
  },
  {
   "cell_type": "code",
   "execution_count": 3,
   "metadata": {},
   "outputs": [],
   "source": [
    "path = 'data'\n",
    "get_mnist(path)"
   ]
  },
  {
   "cell_type": "code",
   "execution_count": 4,
   "metadata": {},
   "outputs": [],
   "source": [
    "# Read in data\n",
    "trn_x = np.load(os.path.join(path, 'mnist', 'train_x.npy'))\n",
    "trn_y = np.load(os.path.join(path, 'mnist', 'train_y.npy'))\n",
    "\n",
    "test_x = np.load(os.path.join(path, 'mnist', 'test_x.npy'))\n",
    "test_y = np.load(os.path.join(path, 'mnist', 'test_y.npy'))"
   ]
  },
  {
   "cell_type": "code",
   "execution_count": 5,
   "metadata": {},
   "outputs": [],
   "source": [
    "# Prepare val set\n",
    "n = len(trn_x)\n",
    "trn_idxs = np.arange(n)\n",
    "np.random.shuffle(trn_idxs)\n",
    "\n",
    "val_x = trn_x[trn_idxs[:int(0.2 * n)]]\n",
    "val_y = trn_y[trn_idxs[:int(0.2 * n)]]\n",
    "\n",
    "trn_x = trn_x[trn_idxs[int(0.2 * n):]]\n",
    "trn_y = trn_y[trn_idxs[int(0.2 * n):]]"
   ]
  },
  {
   "cell_type": "code",
   "execution_count": 6,
   "metadata": {},
   "outputs": [],
   "source": [
    "avg = np.mean(trn_x)\n",
    "std = np.std(trn_x)"
   ]
  },
  {
   "cell_type": "code",
   "execution_count": 7,
   "metadata": {},
   "outputs": [],
   "source": [
    "trn_x = (trn_x - avg) / std\n",
    "val_x = (val_x - avg) / std\n",
    "test_x = (test_x - avg) / std"
   ]
  },
  {
   "cell_type": "code",
   "execution_count": 8,
   "metadata": {},
   "outputs": [],
   "source": [
    "data = ImageClassifierData.from_arrays(os.path.join(path, 'mnist'), (trn_x, trn_y), (val_x, val_y), bs=64)"
   ]
  },
  {
   "cell_type": "code",
   "execution_count": 9,
   "metadata": {},
   "outputs": [],
   "source": [
    "class FCNet(nn.Module):\n",
    "    def __init__(self, ps, activation=F.relu):\n",
    "        super().__init__()\n",
    "        self.ps = ps\n",
    "        self.activation = activation\n",
    "        \n",
    "        self.layers = nn.ModuleList([\n",
    "            nn.Linear(784, 1024),\n",
    "            nn.Linear(1024, 1024),\n",
    "        ])\n",
    "        for l in self.layers:\n",
    "            xavier_normal(l.weight.data)\n",
    "        \n",
    "        self.l_out = nn.Linear(1024, 10)\n",
    "        xavier_normal(self.l_out.weight.data)\n",
    "\n",
    "        \n",
    "    def forward(self, x):\n",
    "        x = x.view(-1, 784)\n",
    "        \n",
    "        x = F.dropout(x, self.ps[0])\n",
    "        for l, p in zip(self.layers, self.ps[1:]):\n",
    "            x = l(x)\n",
    "            x = self.activation(x)\n",
    "            x = F.dropout(x, p)\n",
    "        return F.log_softmax(F.dropout(self.l_out(x),0.05))"
   ]
  },
  {
   "cell_type": "code",
   "execution_count": 10,
   "metadata": {},
   "outputs": [],
   "source": [
    "m = FCNet((0.75, 0.5, 0.15))\n",
    "learn = ConvLearner.from_model_data(m, data, opt_fn=optim.RMSprop)"
   ]
  },
  {
   "cell_type": "code",
   "execution_count": 11,
   "metadata": {},
   "outputs": [
    {
     "data": {
      "application/vnd.jupyter.widget-view+json": {
       "model_id": "765309e231f34a259f64bda6c8c6ad46",
       "version_major": 2,
       "version_minor": 0
      },
      "text/html": [
       "<p>Failed to display Jupyter Widget of type <code>HBox</code>.</p>\n",
       "<p>\n",
       "  If you're reading this message in the Jupyter Notebook or JupyterLab Notebook, it may mean\n",
       "  that the widgets JavaScript is still loading. If this message persists, it\n",
       "  likely means that the widgets JavaScript library is either not installed or\n",
       "  not enabled. See the <a href=\"https://ipywidgets.readthedocs.io/en/stable/user_install.html\">Jupyter\n",
       "  Widgets Documentation</a> for setup instructions.\n",
       "</p>\n",
       "<p>\n",
       "  If you're reading this message in another frontend (for example, a static\n",
       "  rendering on GitHub or <a href=\"https://nbviewer.jupyter.org/\">NBViewer</a>),\n",
       "  it may mean that your frontend doesn't currently support widgets.\n",
       "</p>\n"
      ],
      "text/plain": [
       "HBox(children=(IntProgress(value=0, description='Epoch', max=15), HTML(value='')))"
      ]
     },
     "metadata": {},
     "output_type": "display_data"
    },
    {
     "name": "stdout",
     "output_type": "stream",
     "text": [
      "epoch      trn_loss   val_loss   accuracy         \n",
      "    0      0.108203   0.083719   0.974235  \n",
      "    1      0.086218   0.082675   0.973986         \n",
      "    2      0.034079   0.055759   0.982048         \n",
      "    3      0.073335   0.100408   0.972739         \n",
      "    4      0.038372   0.070023   0.981383         \n",
      "    5      0.011027   0.063617   0.983793         \n",
      "    6      0.002493   0.062457   0.984375         \n",
      "    7      0.065316   0.11281    0.974069         \n",
      "    8      0.039693   0.098724   0.977394         \n",
      "    9      0.023218   0.095109   0.981051         \n",
      "    10     0.009109   0.108155   0.981549         \n",
      "    11     0.004278   0.101964   0.982463         \n",
      "    12     0.000806   0.097023   0.985705         \n",
      "    13     0.000166   0.09941    0.986785         \n",
      "    14     1.5e-05    0.101724   0.987035         \n",
      "\n",
      "CPU times: user 36.8 s, sys: 13.8 s, total: 50.6 s\n",
      "Wall time: 32 s\n"
     ]
    },
    {
     "data": {
      "text/plain": [
       "[0.1017239, 0.98703457446808507]"
      ]
     },
     "execution_count": 11,
     "metadata": {},
     "output_type": "execute_result"
    }
   ],
   "source": [
    "%%time\n",
    "learn.fit(1e-3, 4, cycle_len=1, cycle_mult=2)"
   ]
  },
  {
   "cell_type": "code",
   "execution_count": 12,
   "metadata": {},
   "outputs": [],
   "source": [
    "def RMSprop_Momentum(momentum):\n",
    "    return lambda *args, **kwargs: optim.SGD(*args, momentum=momentum, **kwargs)"
   ]
  },
  {
   "cell_type": "code",
   "execution_count": 13,
   "metadata": {},
   "outputs": [],
   "source": [
    "m = FCNet((0.1, 0.25, 0.25), F.elu)\n",
    "learn = ConvLearner.from_model_data(m, data, opt_fn=RMSprop_Momentum(0.99))"
   ]
  },
  {
   "cell_type": "code",
   "execution_count": 14,
   "metadata": {},
   "outputs": [
    {
     "data": {
      "application/vnd.jupyter.widget-view+json": {
       "model_id": "9a4cb2ce998442c2b2752816c19e22ff",
       "version_major": 2,
       "version_minor": 0
      },
      "text/html": [
       "<p>Failed to display Jupyter Widget of type <code>HBox</code>.</p>\n",
       "<p>\n",
       "  If you're reading this message in the Jupyter Notebook or JupyterLab Notebook, it may mean\n",
       "  that the widgets JavaScript is still loading. If this message persists, it\n",
       "  likely means that the widgets JavaScript library is either not installed or\n",
       "  not enabled. See the <a href=\"https://ipywidgets.readthedocs.io/en/stable/user_install.html\">Jupyter\n",
       "  Widgets Documentation</a> for setup instructions.\n",
       "</p>\n",
       "<p>\n",
       "  If you're reading this message in another frontend (for example, a static\n",
       "  rendering on GitHub or <a href=\"https://nbviewer.jupyter.org/\">NBViewer</a>),\n",
       "  it may mean that your frontend doesn't currently support widgets.\n",
       "</p>\n"
      ],
      "text/plain": [
       "HBox(children=(IntProgress(value=0, description='Epoch', max=15), HTML(value='')))"
      ]
     },
     "metadata": {},
     "output_type": "display_data"
    },
    {
     "name": "stdout",
     "output_type": "stream",
     "text": [
      "epoch      trn_loss   val_loss   accuracy         \n",
      "    0      0.203993   0.176433   0.950133  \n",
      "    1      0.254044   0.192983   0.952876         \n",
      "    2      0.072411   0.106379   0.974235         \n",
      "    3      0.174421   0.240243   0.962766         \n",
      "    4      0.133116   0.166678   0.969415         \n",
      "    5      0.031721   0.100086   0.979471         \n",
      "    6      0.020055   0.096397   0.980552         \n",
      "    7      0.111623   0.230344   0.969498         \n",
      "    8      0.116134   0.229525   0.968418         \n",
      "    9      0.085529   0.193438   0.974152         \n",
      "    10     0.031725   0.158465   0.980967         \n",
      "    11     0.005764   0.145115   0.98238          \n",
      "    12     0.001006   0.138001   0.983544         \n",
      "    13     0.00063    0.138406   0.983627         \n",
      "    14     0.000585   0.138398   0.983544         \n",
      "\n",
      "CPU times: user 36.3 s, sys: 13 s, total: 49.3 s\n",
      "Wall time: 30.7 s\n"
     ]
    },
    {
     "data": {
      "text/plain": [
       "[0.13839807, 0.98354388297872342]"
      ]
     },
     "execution_count": 14,
     "metadata": {},
     "output_type": "execute_result"
    }
   ],
   "source": [
    "%%time\n",
    "learn.fit(3e-3, 4, cycle_len=1, cycle_mult=2)"
   ]
  }
 ],
 "metadata": {
  "kernelspec": {
   "display_name": "Python 3",
   "language": "python",
   "name": "python3"
  },
  "language_info": {
   "codemirror_mode": {
    "name": "ipython",
    "version": 3
   },
   "file_extension": ".py",
   "mimetype": "text/x-python",
   "name": "python",
   "nbconvert_exporter": "python",
   "pygments_lexer": "ipython3",
   "version": "3.6.4"
  }
 },
 "nbformat": 4,
 "nbformat_minor": 2
}
