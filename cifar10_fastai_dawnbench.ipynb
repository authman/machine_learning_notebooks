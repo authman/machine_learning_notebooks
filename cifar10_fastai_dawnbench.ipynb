{
 "cells": [
  {
   "cell_type": "markdown",
   "metadata": {},
   "source": [
    "https://github.com/fastai/imagenet-fast/tree/master/cifar10/dawn_submission"
   ]
  },
  {
   "cell_type": "code",
   "execution_count": 1,
   "metadata": {},
   "outputs": [],
   "source": [
    "%matplotlib inline\n",
    "%reload_ext autoreload\n",
    "%autoreload 2"
   ]
  },
  {
   "cell_type": "code",
   "execution_count": 2,
   "metadata": {},
   "outputs": [],
   "source": [
    "from fastai.conv_learner import *\n",
    "PATH = Path(\"data/cifar_full/\")"
   ]
  },
  {
   "cell_type": "code",
   "execution_count": 3,
   "metadata": {},
   "outputs": [],
   "source": [
    "from torchvision import transforms, datasets"
   ]
  },
  {
   "cell_type": "code",
   "execution_count": 4,
   "metadata": {},
   "outputs": [],
   "source": [
    "torch.backends.cudnn.benchmark = True"
   ]
  },
  {
   "cell_type": "code",
   "execution_count": 5,
   "metadata": {},
   "outputs": [],
   "source": [
    "classes = ('plane', 'car', 'bird', 'cat', 'deer', 'dog', 'frog', 'horse', 'ship', 'truck')\n",
    "stats = (np.array([ 0.4914 ,  0.48216,  0.44653]), np.array([ 0.24703,  0.24349,  0.26159]))"
   ]
  },
  {
   "cell_type": "code",
   "execution_count": 6,
   "metadata": {},
   "outputs": [
    {
     "data": {
      "text/plain": [
       "12"
      ]
     },
     "execution_count": 6,
     "metadata": {},
     "output_type": "execute_result"
    }
   ],
   "source": [
    "num_cpus()"
   ]
  },
  {
   "cell_type": "code",
   "execution_count": 7,
   "metadata": {},
   "outputs": [],
   "source": [
    "bs = 128; num_workers = num_cpus()"
   ]
  },
  {
   "cell_type": "markdown",
   "metadata": {},
   "source": [
    "We construct the data object manually from low level components in a way that can be used with the fastai library."
   ]
  },
  {
   "cell_type": "code",
   "execution_count": 8,
   "metadata": {},
   "outputs": [],
   "source": [
    "traindir = str(PATH/'train')\n",
    "valdir = str(PATH/'test')\n",
    "tfms = [transforms.ToTensor(),\n",
    "        transforms.Normalize((0.4914, 0.4822, 0.4465), (0.2023, 0.1994, 0.2010))]\n",
    "\n",
    "train_dataset = datasets.ImageFolder(\n",
    "    traindir,\n",
    "    transforms.Compose([\n",
    "        transforms.RandomCrop(32, padding=4),\n",
    "        transforms.RandomHorizontalFlip(),\n",
    "    ] + tfms))\n",
    "\n",
    "train_loader = torch.utils.data.DataLoader(\n",
    "    train_dataset, batch_size=bs, shuffle=True, num_workers=num_workers, pin_memory=True)\n",
    "\n",
    "val_dataset = datasets.ImageFolder(valdir, transforms.Compose(tfms))\n",
    "\n",
    "val_loader = torch.utils.data.DataLoader(\n",
    "    val_dataset, batch_size=bs*2, shuffle=False, num_workers=num_workers, pin_memory=True)"
   ]
  },
  {
   "cell_type": "code",
   "execution_count": 9,
   "metadata": {},
   "outputs": [],
   "source": [
    "data = ModelData(PATH, train_loader, val_loader)\n",
    "data.sz=32"
   ]
  },
  {
   "cell_type": "code",
   "execution_count": 10,
   "metadata": {},
   "outputs": [],
   "source": [
    "from models.wideresnet_new import wrn_22"
   ]
  },
  {
   "cell_type": "code",
   "execution_count": 11,
   "metadata": {},
   "outputs": [],
   "source": [
    "learn = ConvLearner.from_model_data(wrn_22().cuda(), data)\n",
    "learn.crit = nn.CrossEntropyLoss()\n",
    "learn.metrics = [accuracy]\n",
    "wd=1e-4"
   ]
  },
  {
   "cell_type": "code",
   "execution_count": 12,
   "metadata": {},
   "outputs": [
    {
     "data": {
      "application/vnd.jupyter.widget-view+json": {
       "model_id": "70eae5060a874aae89807de49dbd670f",
       "version_major": 2,
       "version_minor": 0
      },
      "text/plain": [
       "HBox(children=(IntProgress(value=0, description='Epoch', max=1), HTML(value='')))"
      ]
     },
     "metadata": {},
     "output_type": "display_data"
    },
    {
     "name": "stdout",
     "output_type": "stream",
     "text": [
      "epoch      trn_loss   val_loss   accuracy                   \n",
      "    0      2.166833   9442.61171 0.0998    \n",
      "\n"
     ]
    }
   ],
   "source": [
    "learn.lr_find()"
   ]
  },
  {
   "cell_type": "code",
   "execution_count": 13,
   "metadata": {},
   "outputs": [
    {
     "data": {
      "image/png": "[encoded data removed]",
      "text/plain": [
       "<Figure size 432x288 with 1 Axes>"
      ]
     },
     "metadata": {},
     "output_type": "display_data"
    }
   ],
   "source": [
    "learn.sched.plot(n_skip_end=1)"
   ]
  },
  {
   "cell_type": "code",
   "execution_count": 14,
   "metadata": {},
   "outputs": [],
   "source": [
    "lr = 1.3"
   ]
  },
  {
   "cell_type": "code",
   "execution_count": 15,
   "metadata": {},
   "outputs": [
    {
     "data": {
      "application/vnd.jupyter.widget-view+json": {
       "model_id": "08535138ffd2473aa680e68490cf09b9",
       "version_major": 2,
       "version_minor": 0
      },
      "text/plain": [
       "HBox(children=(IntProgress(value=0, description='Epoch', max=1), HTML(value='')))"
      ]
     },
     "metadata": {},
     "output_type": "display_data"
    },
    {
     "name": "stdout",
     "output_type": "stream",
     "text": [
      "epoch      trn_loss   val_loss   accuracy                   \n",
      "    0      1.008451   0.90191    0.6743    \n",
      "\n",
      "CPU times: user 27.3 s, sys: 12.8 s, total: 40.1 s\n",
      "Wall time: 39.6 s\n"
     ]
    },
    {
     "data": {
      "text/plain": [
       "[array([0.90191]), 0.6743]"
      ]
     },
     "execution_count": 15,
     "metadata": {},
     "output_type": "execute_result"
    }
   ],
   "source": [
    "%time learn.fit(lr/10, 1, wds=wd, cycle_len=1, use_clr_beta=(100, 1, 0.9, 0.8))"
   ]
  },
  {
   "cell_type": "code",
   "execution_count": 16,
   "metadata": {},
   "outputs": [
    {
     "data": {
      "application/vnd.jupyter.widget-view+json": {
       "model_id": "69a0be031d744531bb36cc00e0d09cb7",
       "version_major": 2,
       "version_minor": 0
      },
      "text/plain": [
       "HBox(children=(IntProgress(value=0, description='Epoch', max=40), HTML(value='')))"
      ]
     },
     "metadata": {},
     "output_type": "display_data"
    },
    {
     "name": "stdout",
     "output_type": "stream",
     "text": [
      "epoch      trn_loss   val_loss   accuracy                    \n",
      "    0      0.878525   1.140079   0.6296    \n",
      "    1      0.687746   0.856598   0.711                       \n",
      "    2      0.621977   0.87324    0.7156                      \n",
      "    3      0.547768   0.730919   0.7588                      \n",
      "    4      0.523188   0.896059   0.7277                      \n",
      "    5      0.501449   0.760597   0.7561                      \n",
      "    6      0.485831   0.779973   0.7552                      \n",
      "    7      0.485944   0.680932   0.7846                      \n",
      "    8      0.500687   0.848146   0.7432                      \n",
      "    9      0.49653    1.07791    0.7041                      \n",
      "    10     0.483923   3.549425   0.4618                      \n",
      "    11     0.487989   0.745887   0.7625                      \n",
      "    12     0.475381   0.657576   0.7988                      \n",
      "    13     0.450686   0.615962   0.7983                      \n",
      "    14     0.493474   0.82052    0.7611                      \n",
      "    15     0.489912   1.213814   0.6986                      \n",
      "    16     0.475797   1.576381   0.6227                      \n",
      "    17     0.485925   0.644433   0.786                       \n",
      "    18     0.480509   0.619601   0.7975                      \n",
      "    19     0.468962   0.580465   0.8093                      \n",
      "    20     0.456161   0.974667   0.729                       \n",
      "    21     0.444018   1.240524   0.6951                      \n",
      "    22     0.440098   0.782339   0.7513                      \n",
      "    23     0.430605   0.574913   0.821                       \n",
      "    24     0.408975   0.565698   0.813                       \n",
      "    25     0.392418   0.535664   0.8205                      \n",
      "    26     0.400196   0.632326   0.8017                      \n",
      "    27     0.378709   0.779765   0.7774                      \n",
      "    28     0.363452   0.582621   0.8183                      \n",
      "    29     0.339897   0.629763   0.7967                      \n",
      "    30     0.322475   0.433823   0.8523                      \n",
      "    31     0.284439   0.461776   0.8567                      \n",
      "    32     0.238581   0.354896   0.8847                      \n",
      "    33     0.184894   0.270573   0.9122                      \n",
      "    34     0.10824    0.204346   0.9312                      \n",
      "    35     0.076793   0.19298    0.9385                       \n",
      "    36     0.066808   0.193907   0.9386                       \n",
      "    37     0.057084   0.191591   0.9392                       \n",
      "    38     0.052682   0.187363   0.9416                       \n",
      "    39     0.042599   0.185982   0.9421                       \n",
      "\n",
      "CPU times: user 18min 7s, sys: 8min 43s, total: 26min 51s\n",
      "Wall time: 26min 35s\n"
     ]
    },
    {
     "data": {
      "text/plain": [
       "[array([0.18598]), 0.9421]"
      ]
     },
     "execution_count": 16,
     "metadata": {},
     "output_type": "execute_result"
    }
   ],
   "source": [
    "%time learn.fit(lr, 1, wds=wd, cycle_len=40, use_clr_beta=(50, 12.5, 0.95, 0.85))"
   ]
  },
  {
   "cell_type": "code",
   "execution_count": null,
   "metadata": {},
   "outputs": [],
   "source": []
  }
 ],
 "metadata": {
  "kernelspec": {
   "display_name": "Python 3",
   "language": "python",
   "name": "python3"
  },
  "language_info": {
   "codemirror_mode": {
    "name": "ipython",
    "version": 3
   },
   "file_extension": ".py",
   "mimetype": "text/x-python",
   "name": "python",
   "nbconvert_exporter": "python",
   "pygments_lexer": "ipython3",
   "version": "3.6.5"
  }
 },
 "nbformat": 4,
 "nbformat_minor": 2
}
