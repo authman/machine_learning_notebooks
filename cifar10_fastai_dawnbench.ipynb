{
 "cells": [
  {
   "cell_type": "markdown",
   "metadata": {},
   "source": [
    "https://github.com/fastai/imagenet-fast/tree/master/cifar10/dawn_submission"
   ]
  },
  {
   "cell_type": "code",
   "execution_count": 2,
   "metadata": {},
   "outputs": [],
   "source": [
    "%matplotlib inline\n",
    "%reload_ext autoreload\n",
    "%autoreload 2"
   ]
  },
  {
   "cell_type": "code",
   "execution_count": 3,
   "metadata": {},
   "outputs": [],
   "source": [
    "from fastai.conv_learner import *\n",
    "PATH = Path(\"data/cifar_full/\")"
   ]
  },
  {
   "cell_type": "code",
   "execution_count": 4,
   "metadata": {},
   "outputs": [],
   "source": [
    "from torchvision import transforms, datasets"
   ]
  },
  {
   "cell_type": "code",
   "execution_count": 5,
   "metadata": {},
   "outputs": [],
   "source": [
    "torch.backends.cudnn.benchmark = True"
   ]
  },
  {
   "cell_type": "code",
   "execution_count": 6,
   "metadata": {},
   "outputs": [],
   "source": [
    "classes = ('plane', 'car', 'bird', 'cat', 'deer', 'dog', 'frog', 'horse', 'ship', 'truck')\n",
    "stats = (np.array([ 0.4914 ,  0.48216,  0.44653]), np.array([ 0.24703,  0.24349,  0.26159]))"
   ]
  },
  {
   "cell_type": "markdown",
   "metadata": {},
   "source": [
    "We construct the data object manually from low level components in a way that can be used with the fastai library."
   ]
  },
  {
   "cell_type": "code",
   "execution_count": 7,
   "metadata": {},
   "outputs": [],
   "source": [
    "def get_loaders(bs, num_workers):\n",
    "    traindir = str(PATH/'train')\n",
    "    valdir = str(PATH/'test')\n",
    "    tfms = [transforms.ToTensor(),\n",
    "            transforms.Normalize((0.4914, 0.4822, 0.4465), (0.2023, 0.1994, 0.2010))]\n",
    "\n",
    "    train_dataset = datasets.ImageFolder(\n",
    "        traindir,\n",
    "        transforms.Compose([\n",
    "            transforms.RandomCrop(32, padding=4),\n",
    "            transforms.RandomHorizontalFlip(),\n",
    "        ] + tfms))\n",
    "\n",
    "    train_loader = torch.utils.data.DataLoader(\n",
    "        train_dataset, batch_size=bs, shuffle=True, num_workers=num_workers, pin_memory=True)\n",
    "\n",
    "    val_dataset = datasets.ImageFolder(valdir, transforms.Compose(tfms))\n",
    "\n",
    "    val_loader = torch.utils.data.DataLoader(\n",
    "        val_dataset, batch_size=bs*2, shuffle=False, num_workers=num_workers, pin_memory=True)\n",
    "    \n",
    "    return train_loader, val_loader"
   ]
  },
  {
   "cell_type": "code",
   "execution_count": 8,
   "metadata": {},
   "outputs": [],
   "source": [
    "def get_data(bs, num_workers):\n",
    "    data = ModelData(PATH, *get_loaders(bs, num_workers))\n",
    "    data.sz=32\n",
    "    return data"
   ]
  },
  {
   "cell_type": "code",
   "execution_count": 9,
   "metadata": {},
   "outputs": [],
   "source": [
    "from models.wideresnet import wrn_22\n",
    "from models.wideresnet_new import wrn_22 as wrn_22_fastai"
   ]
  },
  {
   "cell_type": "code",
   "execution_count": 10,
   "metadata": {},
   "outputs": [],
   "source": [
    "def get_learner(arch, bs):\n",
    "    learn = ConvLearner.from_model_data(arch.cuda(), get_data(bs, num_cpus()))\n",
    "    learn.crit = nn.CrossEntropyLoss()\n",
    "    learn.metrics = [accuracy]\n",
    "    return learn"
   ]
  },
  {
   "cell_type": "code",
   "execution_count": 11,
   "metadata": {},
   "outputs": [
    {
     "data": {
      "application/vnd.jupyter.widget-view+json": {
       "model_id": "a9d38ede3aba412ea18409fa00743f0f",
       "version_major": 2,
       "version_minor": 0
      },
      "text/plain": [
       "HBox(children=(IntProgress(value=0, description='Epoch', max=1), HTML(value='')))"
      ]
     },
     "metadata": {},
     "output_type": "display_data"
    },
    {
     "name": "stdout",
     "output_type": "stream",
     "text": [
      "epoch      trn_loss   val_loss   accuracy                 \n",
      "    0      2.272702   50465.642  0.1       \n",
      "\n"
     ]
    },
    {
     "data": {
      "image/png": "[encoded data removed]",
      "text/plain": [
       "<Figure size 432x288 with 1 Axes>"
      ]
     },
     "metadata": {},
     "output_type": "display_data"
    }
   ],
   "source": [
    "learn = get_learner(wrn_22(), 512)\n",
    "learn.lr_find(wds=1e-4)\n",
    "learn.sched.plot(n_skip_end=1)"
   ]
  },
  {
   "cell_type": "code",
   "execution_count": 12,
   "metadata": {},
   "outputs": [
    {
     "data": {
      "application/vnd.jupyter.widget-view+json": {
       "model_id": "a1fe418d3e114e34a832c81c66ae1fdf",
       "version_major": 2,
       "version_minor": 0
      },
      "text/plain": [
       "HBox(children=(IntProgress(value=0, description='Epoch', max=30), HTML(value='')))"
      ]
     },
     "metadata": {},
     "output_type": "display_data"
    },
    {
     "name": "stdout",
     "output_type": "stream",
     "text": [
      "epoch      trn_loss   val_loss   accuracy                 \n",
      "    0      1.54632    1.758049   0.4417    \n",
      "    1      1.148196   1.41751    0.5426                   \n",
      "    2      0.897569   1.187317   0.6149                    \n",
      "    3      0.731843   1.112643   0.6252                    \n",
      "    4      0.629387   0.841191   0.7264                    \n",
      "    5      0.546307   0.924863   0.7016                    \n",
      "    6      0.482344   0.796186   0.7527                    \n",
      "    7      0.457564   1.020069   0.706                     \n",
      "    8      0.413988   0.494562   0.8296                    \n",
      "    9      0.387668   0.489906   0.8361                    \n",
      "    10     0.37038    0.472724   0.8452                    \n",
      "    11     0.343563   0.719972   0.7794                    \n",
      "    12     0.335275   0.77779    0.7792                    \n",
      "    13     0.322985   0.691986   0.7839                    \n",
      "    14     0.307528   0.62598    0.7996                    \n",
      "    15     0.294344   0.769548   0.7672                    \n",
      "    16     0.281004   0.597993   0.807                     \n",
      "    17     0.261314   0.582485   0.829                     \n",
      "    18     0.242889   0.515942   0.8497                    \n",
      "    19     0.229597   0.527495   0.8414                    \n",
      "    20     0.220338   0.470763   0.8532                    \n",
      "    21     0.197599   0.425823   0.8642                    \n",
      "    22     0.181196   0.426335   0.8698                    \n",
      "    23     0.160187   0.490949   0.8576                    \n",
      "    24     0.144756   0.331639   0.8939                    \n",
      "    25     0.110834   0.332267   0.9013                    \n",
      "    26     0.073163   0.258705   0.9239                     \n",
      "    27     0.046272   0.238908   0.933                      \n",
      "    28     0.027607   0.226288   0.9377                     \n",
      "    29     0.018841   0.225489   0.9395                     \n",
      "\n",
      "CPU times: user 12min 4s, sys: 6min 48s, total: 18min 52s\n",
      "Wall time: 18min 59s\n"
     ]
    },
    {
     "data": {
      "text/plain": [
       "[array([0.22549]), 0.9394999990463256]"
      ]
     },
     "execution_count": 12,
     "metadata": {},
     "output_type": "execute_result"
    }
   ],
   "source": [
    "%time learn.fit(1.5, 1, wds=1e-4, cycle_len=30, use_clr_beta=(15, 10, 0.95, 0.85))"
   ]
  },
  {
   "cell_type": "code",
   "execution_count": 13,
   "metadata": {},
   "outputs": [
    {
     "data": {
      "application/vnd.jupyter.widget-view+json": {
       "model_id": "ee87e94bf897499da4695e2840f29c25",
       "version_major": 2,
       "version_minor": 0
      },
      "text/plain": [
       "HBox(children=(IntProgress(value=0, description='Epoch', max=1), HTML(value='')))"
      ]
     },
     "metadata": {},
     "output_type": "display_data"
    },
    {
     "name": "stdout",
     "output_type": "stream",
     "text": [
      "epoch      trn_loss   val_loss   accuracy                 \n",
      "    0      2.091661   5599.34583 0.1091    \n",
      "\n"
     ]
    },
    {
     "data": {
      "image/png": "[encoded data removed]",
      "text/plain": [
       "<Figure size 432x288 with 1 Axes>"
      ]
     },
     "metadata": {},
     "output_type": "display_data"
    }
   ],
   "source": [
    "learn = get_learner(wrn_22_fastai(), 512)\n",
    "learn.lr_find(wds=1e-4)\n",
    "learn.sched.plot(n_skip_end=1)"
   ]
  },
  {
   "cell_type": "code",
   "execution_count": 14,
   "metadata": {},
   "outputs": [
    {
     "data": {
      "application/vnd.jupyter.widget-view+json": {
       "model_id": "b66da99940914d9aa3850fb95ffc66f6",
       "version_major": 2,
       "version_minor": 0
      },
      "text/plain": [
       "HBox(children=(IntProgress(value=0, description='Epoch', max=30), HTML(value='')))"
      ]
     },
     "metadata": {},
     "output_type": "display_data"
    },
    {
     "name": "stdout",
     "output_type": "stream",
     "text": [
      "epoch      trn_loss   val_loss   accuracy                 \n",
      "    0      1.485603   1.647206   0.4718    \n",
      "    1      1.09282    1.292543   0.5971                   \n",
      "    2      0.848489   1.05721    0.651                     \n",
      "    3      0.688327   0.736313   0.7396                    \n",
      "    4      0.580463   0.870901   0.7192                    \n",
      "    5      0.510906   0.735299   0.7567                    \n",
      "    6      0.458746   0.789451   0.7499                    \n",
      "    7      0.424685   0.650107   0.786                     \n",
      "    8      0.396697   0.842739   0.749                     \n",
      "    9      0.373568   0.674263   0.7814                    \n",
      "    10     0.361591   0.653711   0.7922                    \n",
      "    11     0.342615   0.703106   0.7773                    \n",
      "    12     0.327934   0.651241   0.7866                    \n",
      "    13     0.321877   1.002682   0.7185                    \n",
      "    14     0.29558    0.947207   0.7604                    \n",
      "    15     0.286036   0.551066   0.827                     \n",
      "    16     0.272639   1.002718   0.7454                    \n",
      "    17     0.250517   0.69038    0.8026                    \n",
      "    18     0.245513   0.776042   0.7815                    \n",
      "    19     0.229252   0.785997   0.7855                    \n",
      "    20     0.216587   0.526487   0.844                     \n",
      "    21     0.198032   0.408684   0.867                     \n",
      "    22     0.185735   0.388901   0.8835                    \n",
      "    23     0.165854   0.504277   0.8545                    \n",
      "    24     0.138504   0.421018   0.8806                    \n",
      "    25     0.111239   0.316447   0.9035                    \n",
      "    26     0.076093   0.275866   0.9212                     \n",
      "    27     0.047747   0.232885   0.9334                     \n",
      "    28     0.032109   0.222551   0.937                      \n",
      "    29     0.022155   0.227157   0.9358                     \n",
      "\n",
      "CPU times: user 12min 30s, sys: 6min 59s, total: 19min 29s\n",
      "Wall time: 19min 37s\n"
     ]
    },
    {
     "data": {
      "text/plain": [
       "[array([0.22716]), 0.935799999332428]"
      ]
     },
     "execution_count": 14,
     "metadata": {},
     "output_type": "execute_result"
    }
   ],
   "source": [
    "%time learn.fit(1.5, 1, wds=1e-4, cycle_len=30, use_clr_beta=(15, 10, 0.95, 0.85))"
   ]
  },
  {
   "cell_type": "code",
   "execution_count": 15,
   "metadata": {},
   "outputs": [
    {
     "data": {
      "application/vnd.jupyter.widget-view+json": {
       "model_id": "60c8295e984f46449b57d3a8a7130729",
       "version_major": 2,
       "version_minor": 0
      },
      "text/plain": [
       "HBox(children=(IntProgress(value=0, description='Epoch', max=30), HTML(value='')))"
      ]
     },
     "metadata": {},
     "output_type": "display_data"
    },
    {
     "name": "stdout",
     "output_type": "stream",
     "text": [
      "epoch      trn_loss   val_loss   accuracy                 \n",
      "    0      1.566746   2.617527   0.3406    \n",
      "    1      1.152544   1.740531   0.4739                   \n",
      "    2      0.865227   1.125154   0.6602                    \n",
      "    3      0.704891   0.891372   0.7048                    \n",
      "    4      0.591438   0.635892   0.7862                    \n",
      "    5      0.53332    0.667474   0.7706                    \n",
      "    6      0.474567   0.716693   0.7666                    \n",
      "    7      0.430691   0.747877   0.7569                    \n",
      "    8      0.409555   0.771468   0.7575                    \n",
      "    9      0.383449   0.623755   0.7953                    \n",
      "    10     0.366076   0.985852   0.7369                    \n",
      "    11     0.349054   0.555456   0.82                      \n",
      "    12     0.329025   0.576531   0.8189                    \n",
      "    13     0.318327   1.219095   0.7069                    \n",
      "    14     0.310171   0.775196   0.7768                    \n",
      "    15     0.292594   1.112627   0.6897                    \n",
      "    16     0.273197   0.489736   0.8372                    \n",
      "    17     0.258122   0.456945   0.8457                    \n",
      "    18     0.241576   0.499259   0.8422                    \n",
      "    19     0.232514   0.683813   0.8149                    \n",
      "    20     0.211986   0.420239   0.8609                    \n",
      "    21     0.204443   0.440639   0.8592                    \n",
      "    22     0.185918   0.455951   0.8693                    \n",
      "    23     0.161796   0.36308    0.8944                    \n",
      "    24     0.133637   0.430617   0.8777                    \n",
      "    25     0.110763   0.332742   0.9034                    \n",
      "    26     0.07732    0.263435   0.9201                     \n",
      "    27     0.044847   0.245992   0.9314                     \n",
      "    28     0.027508   0.232451   0.9359                     \n",
      "    29     0.018197   0.230225   0.9383                     \n",
      "\n",
      "CPU times: user 11min 49s, sys: 6min 35s, total: 18min 24s\n",
      "Wall time: 18min 33s\n"
     ]
    },
    {
     "data": {
      "text/plain": [
       "[array([0.23023]), 0.9382999988555908]"
      ]
     },
     "execution_count": 15,
     "metadata": {},
     "output_type": "execute_result"
    }
   ],
   "source": [
    "learn = get_learner(wrn_22(), 512)\n",
    "%time learn.fit(1.5, 1, wds=1e-4, cycle_len=30, use_clr_beta=(15, 10, 0.95, 0.85))"
   ]
  },
  {
   "cell_type": "code",
   "execution_count": 16,
   "metadata": {},
   "outputs": [
    {
     "data": {
      "application/vnd.jupyter.widget-view+json": {
       "model_id": "66e523e46c494ff6a36b5dad293c0afa",
       "version_major": 2,
       "version_minor": 0
      },
      "text/plain": [
       "HBox(children=(IntProgress(value=0, description='Epoch', max=30), HTML(value='')))"
      ]
     },
     "metadata": {},
     "output_type": "display_data"
    },
    {
     "name": "stdout",
     "output_type": "stream",
     "text": [
      "epoch      trn_loss   val_loss   accuracy                 \n",
      "    0      1.51713    1.934942   0.4056    \n",
      "    1      1.096802   1.387031   0.5601                   \n",
      "    2      0.850848   0.930704   0.6912                    \n",
      "    3      0.694662   1.117699   0.6276                    \n",
      "    4      0.589634   0.660925   0.7711                    \n",
      "    5      0.52382    0.680015   0.7737                    \n",
      "    6      0.4606     1.052155   0.6883                    \n",
      "    7      0.431222   0.64079    0.7911                    \n",
      "    8      0.404906   0.845367   0.7288                    \n",
      "    9      0.378109   0.693618   0.7743                    \n",
      "    10     0.357653   0.612464   0.8126                    \n",
      "    11     0.343765   0.837646   0.7458                    \n",
      "    12     0.322995   0.687247   0.7878                    \n",
      "    13     0.311618   0.686856   0.7873                    \n",
      "    14     0.298722   0.532595   0.826                     \n",
      "    15     0.286199   0.929134   0.7645                    \n",
      "    16     0.27508    0.610328   0.8038                    \n",
      "    17     0.252737   0.686305   0.7967                    \n",
      "    18     0.238302   0.810153   0.7733                    \n",
      "    19     0.231582   0.766683   0.8009                    \n",
      "    20     0.210203   0.56155    0.8309                    \n",
      "    21     0.207201   0.622759   0.817                     \n",
      "    22     0.187947   0.479111   0.8562                    \n",
      "    23     0.168719   0.45108    0.8667                    \n",
      "    24     0.145252   0.520683   0.8601                    \n",
      "    25     0.114743   0.335237   0.8992                    \n",
      "    26     0.078265   0.245926   0.9275                     \n",
      "    27     0.047265   0.229773   0.9311                     \n",
      "    28     0.031301   0.225861   0.9366                     \n",
      "    29     0.023438   0.220841   0.9389                     \n",
      "\n",
      "CPU times: user 12min 11s, sys: 6min 51s, total: 19min 2s\n",
      "Wall time: 19min 9s\n"
     ]
    },
    {
     "data": {
      "text/plain": [
       "[array([0.22084]), 0.9389000015258789]"
      ]
     },
     "execution_count": 16,
     "metadata": {},
     "output_type": "execute_result"
    }
   ],
   "source": [
    "learn = get_learner(wrn_22_fastai(), 512)\n",
    "%time learn.fit(1.5, 1, wds=1e-4, cycle_len=30, use_clr_beta=(15, 10, 0.95, 0.85))"
   ]
  },
  {
   "cell_type": "code",
   "execution_count": 12,
   "metadata": {},
   "outputs": [],
   "source": [
    "learn = get_learner(wrn_22(), 512)"
   ]
  },
  {
   "cell_type": "code",
   "execution_count": 21,
   "metadata": {},
   "outputs": [
    {
     "data": {
      "application/vnd.jupyter.widget-view+json": {
       "model_id": "dc5a572246a441de94449a321594f4de",
       "version_major": 2,
       "version_minor": 0
      },
      "text/plain": [
       "HBox(children=(IntProgress(value=0, description='Epoch', max=5), HTML(value='')))"
      ]
     },
     "metadata": {},
     "output_type": "display_data"
    },
    {
     "name": "stdout",
     "output_type": "stream",
     "text": [
      " 24%|██▍       | 24/98 [00:08<00:26,  2.77it/s, loss=2]   \n",
      "epoch      trn_loss   val_loss   accuracy                 \n",
      "    0      1.614407   1.919485   0.3826    \n",
      "    1      1.208094   1.80926    0.4465                   \n",
      "    2      0.908906   1.189822   0.6017                    \n",
      "    3      0.695331   0.730434   0.7496                    \n",
      "    4      0.519507   0.490678   0.8324                    \n",
      "\n"
     ]
    },
    {
     "data": {
      "application/vnd.jupyter.widget-view+json": {
       "model_id": "f5ef9704560a41e59c4233f106dfd0b5",
       "version_major": 2,
       "version_minor": 0
      },
      "text/plain": [
       "HBox(children=(IntProgress(value=0, description='Epoch', max=15), HTML(value='')))"
      ]
     },
     "metadata": {},
     "output_type": "display_data"
    },
    {
     "name": "stdout",
     "output_type": "stream",
     "text": [
      "epoch      trn_loss   val_loss   accuracy                  \n",
      "    0      0.523462   0.593778   0.7965    \n",
      "    1      0.529916   0.765451   0.7591                    \n",
      "    2      0.507796   0.707556   0.7718                    \n",
      "    3      0.476443   1.148865   0.691                     \n",
      "    4      0.441479   0.709112   0.7763                    \n",
      "    5      0.413202   0.785423   0.764                     \n",
      "    6      0.386066   0.738385   0.7689                    \n",
      "    7      0.353988   0.569757   0.8228                    \n",
      "    8      0.330398   0.625857   0.8036                    \n",
      "    9      0.303856   0.466257   0.8498                    \n",
      "    10     0.277266   0.454301   0.8549                    \n",
      "    11     0.232513   0.359652   0.8877                    \n",
      "    12     0.179795   0.361886   0.8828                    \n",
      "    13     0.119286   0.257216   0.9191                    \n",
      "    14     0.078965   0.234881   0.9267                     \n",
      "\n",
      "CPU times: user 7min 54s, sys: 4min 24s, total: 12min 18s\n",
      "Wall time: 12min 23s\n"
     ]
    }
   ],
   "source": [
    "%%time\n",
    "# learn.fit(1, 1, wds=1e-4, cycle_len=1, use_clr_beta=(15, 10, 0.95, 0.85))\n",
    "learn.fit(1.5, 1, wds=1e-4, cycle_len=15, use_clr_beta=(15, 10, 0.95, 0.85))"
   ]
  },
  {
   "cell_type": "code",
   "execution_count": null,
   "metadata": {},
   "outputs": [
    {
     "data": {
      "application/vnd.jupyter.widget-view+json": {
       "model_id": "6fc8c3072fa947c49a0de3997b13e373",
       "version_major": 2,
       "version_minor": 0
      },
      "text/plain": [
       "HBox(children=(IntProgress(value=0, description='Epoch', max=20), HTML(value='')))"
      ]
     },
     "metadata": {},
     "output_type": "display_data"
    },
    {
     "name": "stdout",
     "output_type": "stream",
     "text": [
      "epoch      trn_loss   val_loss   accuracy                 \n",
      "    0      1.600974   1.903397   0.4441    \n",
      " 61%|██████    | 60/98 [00:21<00:13,  2.82it/s, loss=1.32]"
     ]
    }
   ],
   "source": [
    "%%time\n",
    "# learn.fit(1, 1, wds=1e-4, cycle_len=1, use_clr_beta=(15, 10, 0.95, 0.85))\n",
    "learn.fit(1.5, 1, wds=1e-4, cycle_len=20, use_clr_beta=(15, 10, 0.95, 0.85))"
   ]
  }
 ],
 "metadata": {
  "kernelspec": {
   "display_name": "Python 3",
   "language": "python",
   "name": "python3"
  },
  "language_info": {
   "codemirror_mode": {
    "name": "ipython",
    "version": 3
   },
   "file_extension": ".py",
   "mimetype": "text/x-python",
   "name": "python",
   "nbconvert_exporter": "python",
   "pygments_lexer": "ipython3",
   "version": "3.6.5"
  }
 },
 "nbformat": 4,
 "nbformat_minor": 2
}
