{
 "cells": [
  {
   "cell_type": "code",
   "execution_count": 1,
   "metadata": {},
   "outputs": [],
   "source": [
    "%matplotlib inline\n",
    "%reload_ext autoreload\n",
    "%autoreload 2"
   ]
  },
  {
   "cell_type": "code",
   "execution_count": 2,
   "metadata": {},
   "outputs": [],
   "source": [
    "from utils import *\n",
    "from fastai.conv_learner import *\n",
    "from fastai.plots import *\n",
    "from torch.nn.init import xavier_normal"
   ]
  },
  {
   "cell_type": "code",
   "execution_count": 3,
   "metadata": {},
   "outputs": [],
   "source": [
    "path = 'data'\n",
    "get_mnist(path)"
   ]
  },
  {
   "cell_type": "code",
   "execution_count": 4,
   "metadata": {},
   "outputs": [],
   "source": [
    "trn_x = np.load(os.path.join(path, 'mnist', 'train_x.npy'))\n",
    "trn_y = np.load(os.path.join(path, 'mnist', 'train_y.npy'))\n",
    "\n",
    "test_x = np.load(os.path.join(path, 'mnist', 'test_x.npy'))\n",
    "test_y = np.load(os.path.join(path, 'mnist', 'test_y.npy'))\n",
    "\n",
    "avg = np.mean(trn_x/255)\n",
    "std = np.std(trn_x/255)"
   ]
  },
  {
   "cell_type": "code",
   "execution_count": 5,
   "metadata": {},
   "outputs": [],
   "source": [
    "tfms = tfms_from_stats([avg, std], 28, pad=1, aug_tfms=[RandomScale(28, 1.05)])\n",
    "data = ImageClassifierData.from_paths(os.path.join(path, 'mnist'), val_name='test', tfms=tfms)"
   ]
  },
  {
   "cell_type": "code",
   "execution_count": 6,
   "metadata": {},
   "outputs": [
    {
     "data": {
      "text/plain": [
       "<matplotlib.image.AxesImage at 0x7f361fce1ac8>"
      ]
     },
     "execution_count": 6,
     "metadata": {},
     "output_type": "execute_result"
    },
    {
     "data": {
      "image/png": "[encoded data removed]",
      "text/plain": [
       "<matplotlib.figure.Figure at 0x7f361fa1bfd0>"
      ]
     },
     "metadata": {},
     "output_type": "display_data"
    }
   ],
   "source": [
    "plt.imshow(data.trn_ds[2][0], cmap='gray')"
   ]
  },
  {
   "cell_type": "code",
   "execution_count": 7,
   "metadata": {},
   "outputs": [],
   "source": [
    "class FCNet(nn.Module):\n",
    "    def __init__(self, ps, activation=F.relu):\n",
    "        super().__init__()\n",
    "        self.ps = ps\n",
    "        self.activation = activation\n",
    "        \n",
    "        self.layers = nn.ModuleList([\n",
    "            nn.Linear(784, 1024),\n",
    "            nn.Linear(1024, 1024),\n",
    "        ])\n",
    "        for l in self.layers:\n",
    "            xavier_normal(l.weight.data)\n",
    "        \n",
    "        self.l_out = nn.Linear(1024, 10)\n",
    "        xavier_normal(self.l_out.weight.data)\n",
    "\n",
    "        \n",
    "    def forward(self, x):\n",
    "        x = x.view(-1, 784)\n",
    "        \n",
    "        x = F.dropout(x, self.ps[0])\n",
    "        for l, p in zip(self.layers, self.ps[1:]):\n",
    "            x = l(x)\n",
    "            x = self.activation(x)\n",
    "            x = F.dropout(x, p)\n",
    "        return F.log_softmax(F.dropout(self.l_out(x),0.05))"
   ]
  },
  {
   "cell_type": "code",
   "execution_count": 8,
   "metadata": {},
   "outputs": [],
   "source": [
    "m = FCNet((0.64, 0.64, 0.32))\n",
    "learn = ConvLearner.from_model_data(m, data, opt_fn=optim.RMSprop)"
   ]
  },
  {
   "cell_type": "code",
   "execution_count": 9,
   "metadata": {},
   "outputs": [
    {
     "data": {
      "application/vnd.jupyter.widget-view+json": {
       "model_id": "5dc42b7bdf8547f89fecd77300fe8e71",
       "version_major": 2,
       "version_minor": 0
      },
      "text/html": [
       "<p>Failed to display Jupyter Widget of type <code>HBox</code>.</p>\n",
       "<p>\n",
       "  If you're reading this message in the Jupyter Notebook or JupyterLab Notebook, it may mean\n",
       "  that the widgets JavaScript is still loading. If this message persists, it\n",
       "  likely means that the widgets JavaScript library is either not installed or\n",
       "  not enabled. See the <a href=\"https://ipywidgets.readthedocs.io/en/stable/user_install.html\">Jupyter\n",
       "  Widgets Documentation</a> for setup instructions.\n",
       "</p>\n",
       "<p>\n",
       "  If you're reading this message in another frontend (for example, a static\n",
       "  rendering on GitHub or <a href=\"https://nbviewer.jupyter.org/\">NBViewer</a>),\n",
       "  it may mean that your frontend doesn't currently support widgets.\n",
       "</p>\n"
      ],
      "text/plain": [
       "HBox(children=(IntProgress(value=0, description='Epoch', max=15), HTML(value='')))"
      ]
     },
     "metadata": {},
     "output_type": "display_data"
    },
    {
     "name": "stdout",
     "output_type": "stream",
     "text": [
      "epoch      trn_loss   val_loss   accuracy        \n",
      "    0      0.092029   0.094649   0.969845  \n",
      "    1      0.086797   0.104319   0.968949        \n",
      "    2      0.032831   0.061675   0.982186        \n",
      "    3      0.081932   0.097683   0.971835        \n",
      "    4      0.046173   0.08281    0.978503        \n",
      "    5      0.017175   0.068229   0.98338         \n",
      "    6      0.009054   0.068084   0.984375        \n",
      "    7      0.061817   0.148123   0.967954        \n",
      "    8      0.054661   0.115921   0.977209        \n",
      "    9      0.041997   0.106179   0.980991        \n",
      "    10     0.024924   0.114512   0.980195        \n",
      "    11     0.013965   0.12033    0.983479        \n",
      "    12     0.005543   0.120646   0.984176        \n",
      "    13     0.001575   0.123283   0.985271        \n",
      "    14     0.000802   0.127225   0.984972        \n",
      "\n",
      "CPU times: user 5min 23s, sys: 2min 41s, total: 8min 4s\n",
      "Wall time: 4min 14s\n"
     ]
    },
    {
     "data": {
      "text/plain": [
       "[0.12722531, 0.98497213375796178]"
      ]
     },
     "execution_count": 9,
     "metadata": {},
     "output_type": "execute_result"
    }
   ],
   "source": [
    "%%time\n",
    "learn.fit(1e-3, 4, cycle_len=1, cycle_mult=2)"
   ]
  }
 ],
 "metadata": {
  "kernelspec": {
   "display_name": "Python 3",
   "language": "python",
   "name": "python3"
  },
  "language_info": {
   "codemirror_mode": {
    "name": "ipython",
    "version": 3
   },
   "file_extension": ".py",
   "mimetype": "text/x-python",
   "name": "python",
   "nbconvert_exporter": "python",
   "pygments_lexer": "ipython3",
   "version": "3.6.4"
  }
 },
 "nbformat": 4,
 "nbformat_minor": 2
}
